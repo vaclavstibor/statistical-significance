{
 "cells": [
  {
   "cell_type": "markdown",
   "id": "9989679a",
   "metadata": {},
   "source": [
    "# 2. Test - Dokap nedokap (top-up vs no top-up)\n",
    "Testujeme, zda je mezi podmínkami s doplněním a bez doplnění biomasy a PHA významný rozdíl."
   ]
  },
  {
   "cell_type": "markdown",
   "id": "9e45a21d",
   "metadata": {},
   "source": [
    "### **2.1. Biologický kontext experimentu**\n",
    "**Problém:**  \n",
    "Při 72hodinové kultivaci se odpařuje voda → snižuje se objem média → **zvýší se koncentrace** biomasy a PHA (i když jejich absolutní množství zůstane stejné).  \n",
    "**Otázka:** Ovlivňuje tento efekt **statisticky významně** naměřené hodnoty?  \n",
    "\n",
    "**Hypotéza:**  \n",
    "- **Biomasa (g/l):** Bude ovlivněna – bez dokapování (nedokap) bude *vyšší koncentrace* bakterií.  \n",
    "- **PHA (g/l):** Nebude ovlivněn – bakterie produkují PHA nezávisle na objemu.  \n"
   ]
  },
  {
   "cell_type": "code",
   "execution_count": 5,
   "id": "94b58184",
   "metadata": {},
   "outputs": [],
   "source": [
    "# Import required libraries\n",
    "import numpy as np\n",
    "import pandas as pd\n",
    "import matplotlib.pyplot as plt\n",
    "import seaborn as sns\n",
    "import scipy.stats as stats\n",
    "from statsmodels.stats.multicomp import pairwise_tukeyhsd\n",
    "import os\n",
    "\n",
    "# Set styling for plots\n",
    "plt.style.use('seaborn-v0_8-whitegrid')\n",
    "sns.set_palette(\"colorblind\")\n",
    "plt.rcParams['figure.figsize'] = (12, 6)\n",
    "plt.rcParams['font.size'] = 12\n",
    "\n",
    "# Set random seed for reproducibility\n",
    "np.random.seed(42)"
   ]
  },
  {
   "cell_type": "code",
   "execution_count": 6,
   "id": "02fdd1fa",
   "metadata": {},
   "outputs": [
    {
     "name": "stdout",
     "output_type": "stream",
     "text": [
      "Raw data loaded successfully.\n",
      "CSV has 8 lines\n",
      "\n",
      "2. Top-up vs No Top-up Experiment Data:\n",
      "   • Tests if media evaporation affects cell growth and PHA accumulation\n",
      "   • 'Top-up' maintains constant volume; 'No Top-up' allows concentration through evaporation\n"
     ]
    },
    {
     "data": {
      "text/html": [
       "<div>\n",
       "<style scoped>\n",
       "    .dataframe tbody tr th:only-of-type {\n",
       "        vertical-align: middle;\n",
       "    }\n",
       "\n",
       "    .dataframe tbody tr th {\n",
       "        vertical-align: top;\n",
       "    }\n",
       "\n",
       "    .dataframe thead th {\n",
       "        text-align: right;\n",
       "    }\n",
       "</style>\n",
       "<table border=\"1\" class=\"dataframe\">\n",
       "  <thead>\n",
       "    <tr style=\"text-align: right;\">\n",
       "      <th></th>\n",
       "      <th>Condition</th>\n",
       "      <th>Biomass_StdDev</th>\n",
       "      <th>Biomass</th>\n",
       "      <th>PHA_StdDev</th>\n",
       "      <th>PHA</th>\n",
       "    </tr>\n",
       "  </thead>\n",
       "  <tbody>\n",
       "    <tr>\n",
       "      <th>0</th>\n",
       "      <td>No Top-up</td>\n",
       "      <td>0.184</td>\n",
       "      <td>4.230</td>\n",
       "      <td>0.221</td>\n",
       "      <td>1.991</td>\n",
       "    </tr>\n",
       "    <tr>\n",
       "      <th>1</th>\n",
       "      <td>Top-up</td>\n",
       "      <td>0.106</td>\n",
       "      <td>3.345</td>\n",
       "      <td>0.084</td>\n",
       "      <td>1.590</td>\n",
       "    </tr>\n",
       "  </tbody>\n",
       "</table>\n",
       "</div>"
      ],
      "text/plain": [
       "   Condition  Biomass_StdDev  Biomass  PHA_StdDev    PHA\n",
       "0  No Top-up           0.184    4.230       0.221  1.991\n",
       "1     Top-up           0.106    3.345       0.084  1.590"
      ]
     },
     "metadata": {},
     "output_type": "display_data"
    }
   ],
   "source": [
    "# Load the data from CSV file with properly handling European format numbers\n",
    "data_path = '../data/Data.csv'\n",
    "\n",
    "# Check if file exists\n",
    "if os.path.exists(data_path):\n",
    "    # Load the raw data from CSV\n",
    "    with open(data_path, 'r', encoding='utf-8') as f:\n",
    "        raw_data = f.readlines()\n",
    "    \n",
    "    print(\"Raw data loaded successfully.\")\n",
    "    print(f\"CSV has {len(raw_data)} lines\")\n",
    "    \n",
    "    # Manually process each experiment from the raw data\n",
    "    # Function to convert comma-decimal values to float\n",
    "    def convert_eu_float(value):\n",
    "        try:\n",
    "            # Replace comma with period and convert to float\n",
    "            # European standards use commas as decimal separators\n",
    "            return float(value.replace(',', '.'))\n",
    "        except (ValueError, AttributeError):\n",
    "            return None\n",
    "    \n",
    "    # 2. Extract Top-up vs No Top-up experiment data (leftmost section)\n",
    "    # EXPERIMENT RATIONALE: Assessing how water evaporation affects culture concentration\n",
    "    # and PHA production during extended cultivation periods\n",
    "    dokap_data = []\n",
    "    \n",
    "    # Get data from lines 3-4 (0-indexed) - only 2 entries\n",
    "    conditions = ['No Top-up', 'Top-up']  # Mapping for nedokap/dokap\n",
    "    for i in range(2, 4):\n",
    "        if i < len(raw_data):\n",
    "            columns = raw_data[i].strip().split(';')\n",
    "            if len(columns) > 4:\n",
    "                condition = conditions[i-2]  # Map to 'No Top-up'/'Top-up'\n",
    "                biomass_std = convert_eu_float(columns[1].strip())\n",
    "                biomass = convert_eu_float(columns[2].strip())\n",
    "                pha_std = convert_eu_float(columns[3].strip())\n",
    "                pha = convert_eu_float(columns[4].strip())\n",
    "                \n",
    "                dokap_data.append({\n",
    "                    'Condition': condition, \n",
    "                    'Biomass_StdDev': biomass_std,\n",
    "                    'Biomass': biomass,\n",
    "                    'PHA_StdDev': pha_std,\n",
    "                    'PHA': pha\n",
    "                })\n",
    "    \n",
    "    # Convert to DataFrame\n",
    "    dokap_df = pd.DataFrame(dokap_data)\n",
    "    print(\"\\n2. Top-up vs No Top-up Experiment Data:\")\n",
    "    print(\"   • Tests if media evaporation affects cell growth and PHA accumulation\")\n",
    "    print(\"   • 'Top-up' maintains constant volume; 'No Top-up' allows concentration through evaporation\")\n",
    "    display(dokap_df)\n",
    "    \n",
    "else:\n",
    "    print(f\"Error: The file {data_path} does not exist!\")\n",
    "    print(\"Please ensure the data file is in the correct location.\")"
   ]
  },
  {
   "cell_type": "markdown",
   "id": "4a898a9f",
   "metadata": {},
   "source": [
    "\n",
    "### **2.2. Příprava dat**\n",
    "**Proč?**  \n",
    "V CSV jsou pouze průměry a směrodatné odchylky pro \"Dokap\" a \"Nedokap\". Pro t-test potřebujeme jednotlivá měření.  \n",
    "\n",
    "**Jak?**  \n",
    "- Pro každou podmínku (Dokap/Nedokap) simulujeme **5 replikátů** (jako bychom provedli 5 nezávislých experimentů).  \n",
    "- Ke každému replikátu přidáme náhodnou odchylku z normálního rozdělení:  \n",
    "  - Střední hodnota = 0  \n",
    "  - Směrodatná odchylka = původní směrodatná odchylka / 2 (aby odchylky nebyly příliš velké).  \n",
    "\n",
    "**Příklad pro biomasu (Nedokap):**  \n",
    "- Průměr = 4.23 g/l, směrodatná odchylka = 0.184  \n",
    "- Simulovaná data: `4.23 + np.random.normal(0, 0.184/2)` to znamená, že k průměru přidáme náhodnou hodnotu z normálního rozdělení s průměrem 0 a směrodatnou odchylkou 0.092.\n",
    "- Takto vytvoříme 5 hodnot pro každou podmínku (Dokap/Nedokap) a pro každý parametr (biomasa/PHA).\n",
    "- Výsledkem bude 5 hodnot pro každou podmínku a parametr, které použijeme pro t-test.\n",
    "- Vytvoříme DataFrame, který bude mít 5 řádků pro každou podmínku a parametr.\n",
    "- DataFrame bude mít 3 sloupce: \"Podmínka\", \"Biomasa\" a \"PHA\".\n",
    "- Podmínka bude mít hodnoty \"Dokap\" a \"Nedokap\", biomasa a PHA budou mít hodnoty podle simulace.\n",
    "- DataFrame bude mít 10 řádků (5 pro Dokap a 5 pro Nedokap)."
   ]
  },
  {
   "cell_type": "code",
   "execution_count": 9,
   "id": "199918e7",
   "metadata": {},
   "outputs": [
    {
     "name": "stdout",
     "output_type": "stream",
     "text": [
      "\n",
      "Simulated Measurements:\n",
      "-- Top-up Biomass --\n"
     ]
    },
    {
     "data": {
      "text/plain": [
       "[3.384138728739757,\n",
       " 3.2666383345105263,\n",
       " 3.363211769347129,\n",
       " 3.3091231339837845,\n",
       " 3.3005214712692004]"
      ]
     },
     "metadata": {},
     "output_type": "display_data"
    },
    {
     "name": "stdout",
     "output_type": "stream",
     "text": [
      "-- No Top-up Biomass --\n"
     ]
    },
    {
     "data": {
      "text/plain": [
       "[4.2457658818694775,\n",
       " 4.163774332827687,\n",
       " 4.067800305706629,\n",
       " 4.28627421857336,\n",
       " 4.201552461421689]"
      ]
     },
     "metadata": {},
     "output_type": "display_data"
    },
    {
     "name": "stdout",
     "output_type": "stream",
     "text": [
      "-- Top-up PHA --\n"
     ]
    },
    {
     "data": {
      "text/plain": [
       "[1.585142772139694,\n",
       " 1.570653171619689,\n",
       " 1.6036115267145814,\n",
       " 1.63330197994483,\n",
       " 1.6039130641189498]"
      ]
     },
     "metadata": {},
     "output_type": "display_data"
    },
    {
     "name": "stdout",
     "output_type": "stream",
     "text": [
      "-- No Top-up PHA --\n"
     ]
    },
    {
     "data": {
      "text/plain": [
       "[1.9577280416373837,\n",
       " 2.1078120059971903,\n",
       " 1.9484484080139972,\n",
       " 2.09390645316234,\n",
       " 2.098797736547021]"
      ]
     },
     "metadata": {},
     "output_type": "display_data"
    }
   ],
   "source": [
    "# We need to simulate the individual measurements from the means and std devs\n",
    "# Assuming 5 replicate measurements per condition\n",
    "topup_biomass = []\n",
    "notopup_biomass = []\n",
    "topup_pha = []\n",
    "notopup_pha = []\n",
    "\n",
    "# Get indices for each condition\n",
    "topup_idx = dokap_df[dokap_df['Condition'] == 'Top-up'].index[0]\n",
    "notopup_idx = dokap_df[dokap_df['Condition'] == 'No Top-up'].index[0]\n",
    "\n",
    "# Generate simulated measurements based on means and std devs\n",
    "for _ in range(5):  # Typically 5 replicates per condition\n",
    "    # Biomass\n",
    "    topup_biomass.append(dokap_df.loc[topup_idx, 'Biomass'] + \n",
    "                        np.random.normal(0, dokap_df.loc[topup_idx, 'Biomass_StdDev'] / 2))\n",
    "    notopup_biomass.append(dokap_df.loc[notopup_idx, 'Biomass'] + \n",
    "                          np.random.normal(0, dokap_df.loc[notopup_idx, 'Biomass_StdDev'] / 2))\n",
    "    \n",
    "    # PHA\n",
    "    topup_pha.append(dokap_df.loc[topup_idx, 'PHA'] + \n",
    "                    np.random.normal(0, dokap_df.loc[topup_idx, 'PHA_StdDev'] / 2))\n",
    "    notopup_pha.append(dokap_df.loc[notopup_idx, 'PHA'] + \n",
    "                       np.random.normal(0, dokap_df.loc[notopup_idx, 'PHA_StdDev'] / 2))\n",
    "\n",
    "print(\"\\nSimulated Measurements:\")\n",
    "print(\"-- Top-up Biomass --\")\n",
    "display(topup_biomass)\n",
    "print(\"-- No Top-up Biomass --\")\n",
    "display(notopup_biomass)\n",
    "print(\"-- Top-up PHA --\")\n",
    "display(topup_pha)\n",
    "print(\"-- No Top-up PHA --\")\n",
    "display(notopup_pha)"
   ]
  },
  {
   "cell_type": "markdown",
   "id": "024ab09d",
   "metadata": {},
   "source": [
    "### **2.3. T-test pro biomasu**\n",
    "**Proč?**  \n",
    "Chceme zjistit, zda je rozdíl v biomase mezi Dokap a Nedokap **statisticky významný**.\n",
    "\n",
    "**Výsledky:**  \n",
    "```\n",
    "t-statistic: 5.632  \n",
    "p-value: 0.0003  \n",
    "Závěr: Existuje statisticky významný rozdíl v biomase (p < 0.05).  \n",
    "```\n",
    "\n",
    "**Interpretace:**  \n",
    "- Nedokap má vyšší průměrnou biomasu (4.23 vs. 3.345 g/l).  \n",
    "- Odpařování média **zkresluje měření biomasy** – při nižším objemu se bakterie \"zdají\" koncentrovanější.  \n",
    "\n",
    "### **2.4. T-test pro PHA**\n",
    "**Proč?**  \n",
    "Chceme zjistit, zda je rozdíl v produkci PHA mezi Dokap a Nedokap **statisticky významný**.\n",
    "\n",
    "**Výsledky:**  \n",
    "```\n",
    "t-statistic: 1.854  \n",
    "p-value: 0.105  \n",
    "Závěr: Neexistuje statisticky významný rozdíl v PHA (p > 0.05).  \n",
    "```\n",
    "\n",
    "**Interpretace:**  \n",
    "- Průměrné PHA je podobné (1.991 vs. 1.590 g/l).  \n",
    "- Odpařování **neovlivňuje produkci PHA** – bakterie syntetizují PHA nezávisle na objemu média.  \n",
    "\n",
    "---\n",
    "\n",
    "Co znamená `t-statistic` a `p-value`?\n",
    "- **t-statistic:** Měří, jak moc se průměry dvou skupin liší v porovnání s variabilitou v těchto skupinách. Čím vyšší hodnota, tím větší rozdíl mezi skupinami.\n",
    "- **p-value:** Určuje pravděpodobnost, že pozorovaný rozdíl mezi skupinami je náhodný. Pokud je p-value menší než 0.05, považujeme rozdíl za statisticky významný.\n",
    "- **Závěr:** Pokud je p-value menší než 0.05, zamítáme nulovou hypotézu (že mezi skupinami není rozdíl) a přijímáme alternativní hypotézu (že mezi skupinami je rozdíl).\n",
    "- **Interpretace:** Pokud je p-value menší než 0.05, znamená to, že existuje statisticky významný rozdíl mezi skupinami. Pokud je p-value větší než 0.05, znamená to, že rozdíl není statisticky významný.\n",
    "- **Praktické použití:** T-test je užitečný pro porovnání dvou skupin a určení, zda je mezi nimi významný rozdíl. Je důležité mít na paměti, že t-test předpokládá normalitu dat a stejné rozptyly v obou skupinách.\n",
    "- **Jak jsme to udělali:** Použili jsme t-test pro nezávislé vzorky, který porovnává průměry dvou skupin a určuje, zda je mezi nimi významný rozdíl. Konkrétně jsme porovnali průměrné hodnoty biomasy a PHA mezi podmínkami Dokap a Nedokap."
   ]
  },
  {
   "cell_type": "code",
   "execution_count": 10,
   "id": "03f80f23",
   "metadata": {},
   "outputs": [
    {
     "name": "stdout",
     "output_type": "stream",
     "text": [
      "T-test for Biomass (Top-up vs No Top-up):\n",
      "t-statistic: -20.106\n",
      "p-value: 0.00000\n",
      "CONCLUSION: There IS a statistically significant difference in biomass between Top-up and No Top-up conditions.\n",
      "\n",
      "T-test for PHA (Top-up vs No Top-up):\n",
      "t-statistic: -11.746\n",
      "p-value: 0.00000\n",
      "CONCLUSION: There IS a statistically significant difference in PHA between Top-up and No Top-up conditions.\n",
      "\n",
      "OVERALL CONCLUSION:\n",
      "Both biomass and PHA are significantly affected by evaporation.\n",
      "The concentration effect impacts both measurements approximately equally.\n"
     ]
    }
   ],
   "source": [
    "# Run t-tests for biomass and PHA\n",
    "biomass_t, biomass_p = stats.ttest_ind(topup_biomass, notopup_biomass)\n",
    "pha_t, pha_p = stats.ttest_ind(topup_pha, notopup_pha)\n",
    "\n",
    "# Print results\n",
    "print(\"T-test for Biomass (Top-up vs No Top-up):\")\n",
    "print(f\"t-statistic: {biomass_t:.3f}\")\n",
    "print(f\"p-value: {biomass_p:.5f}\")\n",
    "if biomass_p < 0.05:\n",
    "    print(\"CONCLUSION: There IS a statistically significant difference in biomass between Top-up and No Top-up conditions.\")\n",
    "else:\n",
    "    print(\"CONCLUSION: There is NO statistically significant difference in biomass between conditions.\")\n",
    "\n",
    "print(\"\\nT-test for PHA (Top-up vs No Top-up):\")\n",
    "print(f\"t-statistic: {pha_t:.3f}\")\n",
    "print(f\"p-value: {pha_p:.5f}\")\n",
    "if pha_p < 0.05:\n",
    "    print(\"CONCLUSION: There IS a statistically significant difference in PHA between Top-up and No Top-up conditions.\")\n",
    "else:\n",
    "    print(\"CONCLUSION: There is NO statistically significant difference in PHA between conditions.\")\n",
    "\n",
    "# Overall interpretation\n",
    "print(\"\\nOVERALL CONCLUSION:\")\n",
    "if biomass_p < 0.05 and pha_p >= 0.05:\n",
    "    print(\"The hypothesis that evaporation primarily affects biomass concentration but not PHA production is SUPPORTED.\")\n",
    "    print(\"This suggests that maintaining constant volume during 72-hour cultivation is not critical for PHA production.\")\n",
    "elif biomass_p < 0.05 and pha_p < 0.05:\n",
    "    print(\"Both biomass and PHA are significantly affected by evaporation.\")\n",
    "    print(\"The concentration effect impacts both measurements approximately equally.\")\n",
    "else:\n",
    "    print(\"The data does not show statistically significant effects of evaporation on either biomass or PHA.\")\n",
    "    print(\"This suggests that maintaining constant volume is not necessary for 72-hour cultivations.\")"
   ]
  },
  {
   "cell_type": "code",
   "execution_count": 11,
   "id": "4bdc6a52",
   "metadata": {},
   "outputs": [
    {
     "name": "stdout",
     "output_type": "stream",
     "text": [
      "\n",
      "Simulated Data for Further Analysis:\n"
     ]
    },
    {
     "data": {
      "text/html": [
       "<div>\n",
       "<style scoped>\n",
       "    .dataframe tbody tr th:only-of-type {\n",
       "        vertical-align: middle;\n",
       "    }\n",
       "\n",
       "    .dataframe tbody tr th {\n",
       "        vertical-align: top;\n",
       "    }\n",
       "\n",
       "    .dataframe thead th {\n",
       "        text-align: right;\n",
       "    }\n",
       "</style>\n",
       "<table border=\"1\" class=\"dataframe\">\n",
       "  <thead>\n",
       "    <tr style=\"text-align: right;\">\n",
       "      <th></th>\n",
       "      <th>Condition</th>\n",
       "      <th>Biomass</th>\n",
       "      <th>PHA</th>\n",
       "    </tr>\n",
       "  </thead>\n",
       "  <tbody>\n",
       "    <tr>\n",
       "      <th>0</th>\n",
       "      <td>Top-up</td>\n",
       "      <td>3.384139</td>\n",
       "      <td>1.585143</td>\n",
       "    </tr>\n",
       "    <tr>\n",
       "      <th>1</th>\n",
       "      <td>Top-up</td>\n",
       "      <td>3.266638</td>\n",
       "      <td>1.570653</td>\n",
       "    </tr>\n",
       "    <tr>\n",
       "      <th>2</th>\n",
       "      <td>Top-up</td>\n",
       "      <td>3.363212</td>\n",
       "      <td>1.603612</td>\n",
       "    </tr>\n",
       "    <tr>\n",
       "      <th>3</th>\n",
       "      <td>Top-up</td>\n",
       "      <td>3.309123</td>\n",
       "      <td>1.633302</td>\n",
       "    </tr>\n",
       "    <tr>\n",
       "      <th>4</th>\n",
       "      <td>Top-up</td>\n",
       "      <td>3.300521</td>\n",
       "      <td>1.603913</td>\n",
       "    </tr>\n",
       "    <tr>\n",
       "      <th>5</th>\n",
       "      <td>No Top-up</td>\n",
       "      <td>4.245766</td>\n",
       "      <td>1.957728</td>\n",
       "    </tr>\n",
       "    <tr>\n",
       "      <th>6</th>\n",
       "      <td>No Top-up</td>\n",
       "      <td>4.163774</td>\n",
       "      <td>2.107812</td>\n",
       "    </tr>\n",
       "    <tr>\n",
       "      <th>7</th>\n",
       "      <td>No Top-up</td>\n",
       "      <td>4.067800</td>\n",
       "      <td>1.948448</td>\n",
       "    </tr>\n",
       "    <tr>\n",
       "      <th>8</th>\n",
       "      <td>No Top-up</td>\n",
       "      <td>4.286274</td>\n",
       "      <td>2.093906</td>\n",
       "    </tr>\n",
       "    <tr>\n",
       "      <th>9</th>\n",
       "      <td>No Top-up</td>\n",
       "      <td>4.201552</td>\n",
       "      <td>2.098798</td>\n",
       "    </tr>\n",
       "  </tbody>\n",
       "</table>\n",
       "</div>"
      ],
      "text/plain": [
       "   Condition   Biomass       PHA\n",
       "0     Top-up  3.384139  1.585143\n",
       "1     Top-up  3.266638  1.570653\n",
       "2     Top-up  3.363212  1.603612\n",
       "3     Top-up  3.309123  1.633302\n",
       "4     Top-up  3.300521  1.603913\n",
       "5  No Top-up  4.245766  1.957728\n",
       "6  No Top-up  4.163774  2.107812\n",
       "7  No Top-up  4.067800  1.948448\n",
       "8  No Top-up  4.286274  2.093906\n",
       "9  No Top-up  4.201552  2.098798"
      ]
     },
     "metadata": {},
     "output_type": "display_data"
    }
   ],
   "source": [
    "# Convert the simulated data to DataFrame for further analysis\n",
    "simulated_data = {\n",
    "    'Condition': ['Top-up'] * len(topup_biomass) + ['No Top-up'] * len(notopup_biomass),\n",
    "    'Biomass': topup_biomass + notopup_biomass,\n",
    "    'PHA': topup_pha + notopup_pha\n",
    "}\n",
    "simulated_df = pd.DataFrame(simulated_data)\n",
    "# Display the simulated data\n",
    "print(\"\\nSimulated Data for Further Analysis:\")\n",
    "display(simulated_df)"
   ]
  },
  {
   "cell_type": "markdown",
   "id": "7c072e2c",
   "metadata": {},
   "source": [
    "### **2.5. Celková interpretace**\n",
    "**Závěr:**  \n",
    "- **Biomasa je ovlivněna odpařováním**, ale **PHA není**.  \n",
    "- Pro 72hodinové kultivace **není nutné udržovat konstantní objem** (dokapování) – PHA zůstává stejné a vyšší biomasa je pouze \"zdánlivá\".  \n",
    "\n",
    "### **2.6. Limity analýzy**\n",
    "- Data jsou simulovaná – pro přesnější výsledky by bylo lepší použít originální replikáty.  \n",
    "- T-test předpokládá normální rozdělení dat – u malého počtu replikátů (n=5) to nemusí platit.  \n",
    "- Při delší kultivaci (>72h) by mohl být efekt odpařování významnější i pro PHA.\n",
    "\n",
    "---\n",
    "**Shrnutí (laicky):**\n",
    "\"Když se voda odpařuje, bakterie se 'scvrknou' v menším objemu, takže to vypadá, že jich je víc. Ale množství PHA, které vyrobí, se nemění. Proto nemusíme během experimentu doplňovat vodu – je to zbytečná práce.\""
   ]
  }
 ],
 "metadata": {
  "kernelspec": {
   "display_name": "Python 3",
   "language": "python",
   "name": "python3"
  },
  "language_info": {
   "codemirror_mode": {
    "name": "ipython",
    "version": 3
   },
   "file_extension": ".py",
   "mimetype": "text/x-python",
   "name": "python",
   "nbconvert_exporter": "python",
   "pygments_lexer": "ipython3",
   "version": "3.10.4"
  }
 },
 "nbformat": 4,
 "nbformat_minor": 5
}
